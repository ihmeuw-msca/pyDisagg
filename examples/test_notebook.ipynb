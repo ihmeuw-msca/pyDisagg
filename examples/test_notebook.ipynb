{
 "cells": [
  {
   "cell_type": "code",
   "execution_count": 1,
   "metadata": {},
   "outputs": [],
   "source": [
    "from pydisagg.disaggregate import split_datapoint\n",
    "import numpy as np\n",
    "from pydisagg.models import RateMultiplicativeModel\n",
    "from pydisagg.models import LMO_model\n",
    "from pydisagg.models import LogOdds_model\n",
    "import pandas as pd"
   ]
  },
  {
   "cell_type": "markdown",
   "metadata": {},
   "source": [
    "### Basic example using RateMultiplicativeModel and OddsMultiplicativeModel"
   ]
  },
  {
   "cell_type": "code",
   "execution_count": 2,
   "metadata": {},
   "outputs": [],
   "source": [
    "populations=np.array([20,10,5])\n",
    "rate_pattern=np.array([0.1,0.5,0.7])\n",
    "observed_total=31.\n",
    "observed_total_SE=2.5"
   ]
  },
  {
   "cell_type": "code",
   "execution_count": 3,
   "metadata": {},
   "outputs": [],
   "source": [
    "rmm=RateMultiplicativeModel()\n",
    "oddm=LogOdds_model()"
   ]
  },
  {
   "cell_type": "code",
   "execution_count": 4,
   "metadata": {},
   "outputs": [
    {
     "name": "stdout",
     "output_type": "stream",
     "text": [
      "3.679899347162453\n",
      "1.0826119473216687\n"
     ]
    }
   ],
   "source": [
    "print(oddm.fit_beta(observed_total,rate_pattern,populations))\n",
    "print(rmm.fit_beta(observed_total,rate_pattern,populations))"
   ]
  },
  {
   "cell_type": "code",
   "execution_count": 5,
   "metadata": {},
   "outputs": [
    {
     "name": "stdout",
     "output_type": "stream",
     "text": [
      "[0.2952381  1.47619048 2.06666667]\n",
      "[0.81497625 0.97539516 0.98930469]\n"
     ]
    }
   ],
   "source": [
    "print(rmm.split_to_rates(observed_total,rate_pattern,populations))\n",
    "print(oddm.split_to_rates(observed_total,rate_pattern,populations))"
   ]
  },
  {
   "cell_type": "code",
   "execution_count": 6,
   "metadata": {},
   "outputs": [
    {
     "name": "stdout",
     "output_type": "stream",
     "text": [
      "0.08064516129032258\n",
      "[0.47619048 1.19047619 0.83333333]\n",
      "2.5\n"
     ]
    }
   ],
   "source": [
    "b=rmm.fit_beta(observed_total,populations,rate_pattern)\n",
    "\n",
    "bse=rmm.beta_standard_error(\n",
    "    b,\n",
    "    populations,\n",
    "    rate_pattern,\n",
    "    observed_total_SE\n",
    ")\n",
    "print(bse)\n",
    "print(bse * rmm.count_diff_beta(b,rate_pattern,populations))\n",
    "print(np.sum(bse * rmm.count_diff_beta(b,rate_pattern,populations)))"
   ]
  },
  {
   "cell_type": "code",
   "execution_count": 7,
   "metadata": {},
   "outputs": [
    {
     "data": {
      "text/plain": [
       "array([0.47619048, 1.19047619, 0.83333333])"
      ]
     },
     "execution_count": 7,
     "metadata": {},
     "output_type": "execute_result"
    }
   ],
   "source": [
    "rmm.count_split_standard_errors(b,rate_pattern,populations,observed_total_SE)"
   ]
  },
  {
   "cell_type": "code",
   "execution_count": 9,
   "metadata": {},
   "outputs": [
    {
     "data": {
      "text/plain": [
       "array([0.81497625, 0.97539516, 0.98930469])"
      ]
     },
     "execution_count": 9,
     "metadata": {},
     "output_type": "execute_result"
    }
   ],
   "source": [
    "oddm.split_to_rates(observed_total,rate_pattern,populations)"
   ]
  },
  {
   "cell_type": "code",
   "execution_count": 10,
   "metadata": {},
   "outputs": [
    {
     "data": {
      "text/plain": [
       "3.679899347162453"
      ]
     },
     "execution_count": 10,
     "metadata": {},
     "output_type": "execute_result"
    }
   ],
   "source": [
    "oddm.fit_beta(observed_total,rate_pattern,populations)"
   ]
  },
  {
   "cell_type": "code",
   "execution_count": 11,
   "metadata": {},
   "outputs": [],
   "source": [
    "b=oddm.fit_beta(observed_total,rate_pattern,populations)"
   ]
  },
  {
   "cell_type": "code",
   "execution_count": 12,
   "metadata": {},
   "outputs": [
    {
     "data": {
      "text/plain": [
       "0.30223366091526715"
      ]
     },
     "execution_count": 12,
     "metadata": {},
     "output_type": "execute_result"
    }
   ],
   "source": [
    "1/oddm.H_diff_beta(b,rate_pattern,populations)"
   ]
  },
  {
   "cell_type": "code",
   "execution_count": 16,
   "metadata": {},
   "outputs": [
    {
     "data": {
      "text/plain": [
       "0.7555841522881679"
      ]
     },
     "execution_count": 16,
     "metadata": {},
     "output_type": "execute_result"
    }
   ],
   "source": [
    "oddm.beta_standard_error(\n",
    "    b,\n",
    "    rate_pattern,\n",
    "    populations,\n",
    "    observed_total_SE\n",
    ")"
   ]
  },
  {
   "cell_type": "code",
   "execution_count": 22,
   "metadata": {},
   "outputs": [],
   "source": [
    "pattern_cov=(np.ones((3,3))+np.identity(3)*2)*0.1"
   ]
  },
  {
   "cell_type": "code",
   "execution_count": 23,
   "metadata": {},
   "outputs": [
    {
     "data": {
      "text/plain": [
       "array([[0.75558415, 3.07488133, 1.10740652, 1.06460714],\n",
       "       [3.07488133, 0.3       , 0.1       , 0.1       ],\n",
       "       [1.10740652, 0.1       , 0.3       , 0.1       ],\n",
       "       [1.06460714, 0.1       , 0.1       , 0.3       ]])"
      ]
     },
     "execution_count": 23,
     "metadata": {},
     "output_type": "execute_result"
    }
   ],
   "source": [
    "oddm.parameter_covariance(b,rate_pattern,populations,observed_total_SE,pattern_cov)"
   ]
  },
  {
   "cell_type": "code",
   "execution_count": null,
   "metadata": {},
   "outputs": [],
   "source": []
  },
  {
   "cell_type": "code",
   "execution_count": null,
   "metadata": {},
   "outputs": [],
   "source": []
  }
 ],
 "metadata": {
  "kernelspec": {
   "display_name": "base",
   "language": "python",
   "name": "python3"
  },
  "language_info": {
   "codemirror_mode": {
    "name": "ipython",
    "version": 3
   },
   "file_extension": ".py",
   "mimetype": "text/x-python",
   "name": "python",
   "nbconvert_exporter": "python",
   "pygments_lexer": "ipython3",
   "version": "3.9.12"
  },
  "orig_nbformat": 4
 },
 "nbformat": 4,
 "nbformat_minor": 2
}
