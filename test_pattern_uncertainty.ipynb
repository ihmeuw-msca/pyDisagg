{
 "cells": [
  {
   "cell_type": "code",
   "execution_count": 1,
   "metadata": {},
   "outputs": [],
   "source": [
    "import pydisagg\n",
    "from pydisagg.disaggregate import split_datapoint\n",
    "import numpy as np\n",
    "from pydisagg.models import RateMultiplicativeModel\n",
    "from pydisagg.models import LMO_model\n",
    "from pydisagg.models import LogOdds_model\n",
    "import pandas as pd"
   ]
  },
  {
   "cell_type": "code",
   "execution_count": 22,
   "metadata": {},
   "outputs": [],
   "source": [
    "populations=np.array([20,10,5])\n",
    "rate_pattern=np.array([0.1,0.5,0.7])\n",
    "observed_total=31\n",
    "observed_total_SE=2.5\n",
    "\n",
    "cov_scalar=0.05\n",
    "\n",
    "covariance_matrix=cov_scalar*np.array([\n",
    "    [3,-1,-1],\n",
    "    [-1,3,-1],\n",
    "    [-1,-1,3]\n",
    "])"
   ]
  },
  {
   "cell_type": "code",
   "execution_count": 23,
   "metadata": {},
   "outputs": [],
   "source": [
    "model=RateMultiplicativeModel(rate_pattern=rate_pattern)"
   ]
  },
  {
   "cell_type": "code",
   "execution_count": 24,
   "metadata": {},
   "outputs": [],
   "source": [
    "model.fit_beta(\n",
    "    populations,\n",
    "    observed_total=observed_total,\n",
    "    observed_total_se=observed_total_SE,\n",
    "    )"
   ]
  },
  {
   "cell_type": "code",
   "execution_count": 25,
   "metadata": {},
   "outputs": [
    {
     "data": {
      "text/plain": [
       "1.0826119473216687"
      ]
     },
     "execution_count": 25,
     "metadata": {},
     "output_type": "execute_result"
    }
   ],
   "source": [
    "beta=model._compute_beta(populations,observed_total,rate_pattern)\n",
    "beta"
   ]
  },
  {
   "cell_type": "code",
   "execution_count": 26,
   "metadata": {},
   "outputs": [
    {
     "data": {
      "text/plain": [
       "array([59.04761905, 29.52380952, 14.76190476])"
      ]
     },
     "execution_count": 26,
     "metadata": {},
     "output_type": "execute_result"
    }
   ],
   "source": [
    "grad_result=model._fgrad_H(beta,populations,rate_pattern)\n",
    "grad_result"
   ]
  },
  {
   "cell_type": "code",
   "execution_count": 27,
   "metadata": {},
   "outputs": [
    {
     "data": {
      "text/plain": [
       "array([-1.21997315,  0.38946477,  0.725937  ])"
      ]
     },
     "execution_count": 27,
     "metadata": {},
     "output_type": "execute_result"
    }
   ],
   "source": [
    "model.T(rate_pattern)+model.beta_parameter"
   ]
  },
  {
   "cell_type": "code",
   "execution_count": 28,
   "metadata": {},
   "outputs": [
    {
     "data": {
      "text/plain": [
       "59.04761904761919"
      ]
     },
     "execution_count": 28,
     "metadata": {},
     "output_type": "execute_result"
    }
   ],
   "source": [
    "h=0.01\n",
    "\n",
    "\n",
    "r1=rate_pattern+h*np.identity(3)[0]\n",
    "r2=rate_pattern-h*np.identity(3)[0]\n",
    "\n",
    "model.rate_pattern=r1\n",
    "H1=model._H_func(beta,populations)\n",
    "model.rate_pattern=r2\n",
    "H2=model._H_func(beta,populations)\n",
    "\n",
    "\n",
    "result=(H1-H2)/(2*h)\n",
    "result"
   ]
  },
  {
   "cell_type": "code",
   "execution_count": 29,
   "metadata": {},
   "outputs": [
    {
     "data": {
      "text/plain": [
       "2.000000000000005"
      ]
     },
     "execution_count": 29,
     "metadata": {},
     "output_type": "execute_result"
    }
   ],
   "source": [
    "result/grad_result[1]"
   ]
  },
  {
   "cell_type": "code",
   "execution_count": 30,
   "metadata": {},
   "outputs": [
    {
     "data": {
      "text/plain": [
       "1.000000000000002"
      ]
     },
     "execution_count": 30,
     "metadata": {},
     "output_type": "execute_result"
    }
   ],
   "source": [
    "result/grad_result[0]"
   ]
  },
  {
   "cell_type": "code",
   "execution_count": 31,
   "metadata": {},
   "outputs": [
    {
     "data": {
      "text/plain": [
       "30.410030637455066"
      ]
     },
     "execution_count": 31,
     "metadata": {},
     "output_type": "execute_result"
    }
   ],
   "source": [
    "(model._H_func(beta+h,populations)-model._H_func(beta-h,populations))/(2*h)"
   ]
  },
  {
   "cell_type": "code",
   "execution_count": 32,
   "metadata": {},
   "outputs": [
    {
     "data": {
      "text/plain": [
       "30.40952380952381"
      ]
     },
     "execution_count": 32,
     "metadata": {},
     "output_type": "execute_result"
    }
   ],
   "source": [
    "model._H_diff(beta,populations)"
   ]
  },
  {
   "cell_type": "code",
   "execution_count": 33,
   "metadata": {},
   "outputs": [
    {
     "data": {
      "text/plain": [
       "-1.9049923116135292"
      ]
     },
     "execution_count": 33,
     "metadata": {},
     "output_type": "execute_result"
    }
   ],
   "source": [
    "b1=model._compute_beta(populations,observed_total,rate_pattern+h*np.identity(3)[0])\n",
    "b2=model._compute_beta(populations,observed_total,rate_pattern-h*np.identity(3)[0])\n",
    "\n",
    "(b1-b2)/(2*h)"
   ]
  },
  {
   "cell_type": "code",
   "execution_count": 34,
   "metadata": {},
   "outputs": [
    {
     "data": {
      "text/plain": [
       "array([[ 0.00650364,  0.21428571,  0.02380952, -0.07142857],\n",
       "       [ 0.21428571,  0.15      , -0.05      , -0.05      ],\n",
       "       [ 0.02380952, -0.05      ,  0.15      , -0.05      ],\n",
       "       [-0.07142857, -0.05      , -0.05      ,  0.15      ]])"
      ]
     },
     "execution_count": 34,
     "metadata": {},
     "output_type": "execute_result"
    }
   ],
   "source": [
    "model._build_parameter_covariance(model.beta_parameter,populations,rate_pattern,covariance_matrix,observed_total_SE)"
   ]
  },
  {
   "cell_type": "code",
   "execution_count": 35,
   "metadata": {},
   "outputs": [
    {
     "data": {
      "text/plain": [
       "array([1.9047619 , 0.95238095, 0.47619048])"
      ]
     },
     "execution_count": 35,
     "metadata": {},
     "output_type": "execute_result"
    }
   ],
   "source": [
    "model._fgrad_Hinv(model.beta_parameter,populations,rate_pattern)"
   ]
  },
  {
   "cell_type": "code",
   "execution_count": 36,
   "metadata": {},
   "outputs": [
    {
     "name": "stdout",
     "output_type": "stream",
     "text": [
      "[[ 1.         10.          0.          0.        ]\n",
      " [ 1.          0.          2.          0.        ]\n",
      " [ 1.          0.          0.          1.42857143]]\n"
     ]
    }
   ],
   "source": [
    "J=model.rate_jacobian(beta,rate_pattern)\n",
    "C=model.full_parameter_cov"
   ]
  },
  {
   "cell_type": "code",
   "execution_count": 37,
   "metadata": {},
   "outputs": [
    {
     "data": {
      "text/plain": [
       "array([[ 1.68161646,  0.52167692,  0.81336249],\n",
       "       [ 0.52167692,  1.52919231, -0.58201598],\n",
       "       [ 0.81336249, -0.58201598,  0.46360544]])"
      ]
     },
     "execution_count": 37,
     "metadata": {},
     "output_type": "execute_result"
    }
   ],
   "source": [
    "J@C@J.T"
   ]
  },
  {
   "cell_type": "code",
   "execution_count": 20,
   "metadata": {},
   "outputs": [
    {
     "data": {
      "text/plain": [
       "array([[ 0.00650364,  0.42857143,  0.04761905, -0.14285714],\n",
       "       [ 0.42857143,  0.3       , -0.1       , -0.1       ],\n",
       "       [ 0.04761905, -0.1       ,  0.3       , -0.1       ],\n",
       "       [-0.14285714, -0.1       , -0.1       ,  0.3       ]])"
      ]
     },
     "execution_count": 20,
     "metadata": {},
     "output_type": "execute_result"
    }
   ],
   "source": [
    "C"
   ]
  },
  {
   "cell_type": "code",
   "execution_count": 21,
   "metadata": {},
   "outputs": [
    {
     "data": {
      "text/plain": [
       "array([[0.2952381 , 2.95238095, 0.        , 0.        ],\n",
       "       [1.47619048, 0.        , 2.95238095, 0.        ],\n",
       "       [2.06666667, 0.        , 0.        , 2.95238095]])"
      ]
     },
     "execution_count": 21,
     "metadata": {},
     "output_type": "execute_result"
    }
   ],
   "source": [
    "J"
   ]
  },
  {
   "cell_type": "code",
   "execution_count": 16,
   "metadata": {},
   "outputs": [
    {
     "data": {
      "text/plain": [
       "array([[57.41686653, -1.13436763, -2.35537354],\n",
       "       [-1.13436763,  0.21189782, -0.10971335],\n",
       "       [-2.35537354, -0.10971335,  0.11097518]])"
      ]
     },
     "execution_count": 16,
     "metadata": {},
     "output_type": "execute_result"
    }
   ],
   "source": [
    "model.rate_output_cov(beta,rate_pattern)"
   ]
  },
  {
   "cell_type": "code",
   "execution_count": 38,
   "metadata": {},
   "outputs": [
    {
     "data": {
      "text/plain": [
       "array([0.1 , 0.49, 0.7 ])"
      ]
     },
     "execution_count": 38,
     "metadata": {},
     "output_type": "execute_result"
    }
   ],
   "source": [
    "\n",
    "h=0.02\n",
    "\n",
    "model.rate_pattern=rate_pattern\n",
    "f1=model.fit_beta\n",
    "\n",
    "model.rate_pattern=rate_pattern + h*np.identity(3)[0]\n"
   ]
  },
  {
   "cell_type": "code",
   "execution_count": 35,
   "metadata": {},
   "outputs": [
    {
     "data": {
      "text/plain": [
       "-0.9524097485347327"
      ]
     },
     "execution_count": 35,
     "metadata": {},
     "output_type": "execute_result"
    }
   ],
   "source": [
    "(p_right-p_left)/(2*h)"
   ]
  },
  {
   "cell_type": "code",
   "execution_count": 33,
   "metadata": {},
   "outputs": [
    {
     "data": {
      "text/plain": [
       "-0.038099846232270584"
      ]
     },
     "execution_count": 33,
     "metadata": {},
     "output_type": "execute_result"
    }
   ],
   "source": [
    "p_right-p_left"
   ]
  },
  {
   "cell_type": "code",
   "execution_count": 40,
   "metadata": {},
   "outputs": [
    {
     "data": {
      "text/plain": [
       "1.0921813983378192"
      ]
     },
     "execution_count": 40,
     "metadata": {},
     "output_type": "execute_result"
    }
   ],
   "source": [
    "model.beta_parameter"
   ]
  },
  {
   "cell_type": "code",
   "execution_count": null,
   "metadata": {},
   "outputs": [],
   "source": []
  }
 ],
 "metadata": {
  "kernelspec": {
   "display_name": "base",
   "language": "python",
   "name": "python3"
  },
  "language_info": {
   "codemirror_mode": {
    "name": "ipython",
    "version": 3
   },
   "file_extension": ".py",
   "mimetype": "text/x-python",
   "name": "python",
   "nbconvert_exporter": "python",
   "pygments_lexer": "ipython3",
   "version": "3.9.12"
  },
  "orig_nbformat": 4
 },
 "nbformat": 4,
 "nbformat_minor": 2
}
