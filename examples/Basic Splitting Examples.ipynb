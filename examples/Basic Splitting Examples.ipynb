{
 "cells": [
  {
   "cell_type": "code",
   "execution_count": 1,
   "metadata": {},
   "outputs": [],
   "source": [
    "from pydisagg.disaggregate import split_datapoint\n",
    "import numpy as np\n",
    "from pydisagg.models import RateMultiplicativeModel\n",
    "from pydisagg.models import LMO_model\n",
    "from pydisagg.models import LogOdds_model\n",
    "import pandas as pd"
   ]
  },
  {
   "cell_type": "markdown",
   "metadata": {},
   "source": [
    "### Basic example using RateMultiplicativeModel and OddsMultiplicativeModel"
   ]
  },
  {
   "cell_type": "code",
   "execution_count": 2,
   "metadata": {},
   "outputs": [],
   "source": [
    "populations=np.array([20,10,5])\n",
    "rate_pattern=np.array([0.1,0.5,0.7])\n",
    "observed_total=31.\n",
    "observed_total_SE=2.5"
   ]
  },
  {
   "cell_type": "code",
   "execution_count": 3,
   "metadata": {},
   "outputs": [],
   "source": [
    "rmm=RateMultiplicativeModel()\n",
    "oddm=LogOdds_model()"
   ]
  },
  {
   "cell_type": "code",
   "execution_count": 4,
   "metadata": {},
   "outputs": [
    {
     "name": "stdout",
     "output_type": "stream",
     "text": [
      "3.679899347162453\n",
      "1.0826119473216687\n"
     ]
    }
   ],
   "source": [
    "print(oddm.fit_beta(observed_total,rate_pattern,populations))\n",
    "print(rmm.fit_beta(observed_total,rate_pattern,populations))"
   ]
  },
  {
   "cell_type": "code",
   "execution_count": 5,
   "metadata": {},
   "outputs": [
    {
     "name": "stdout",
     "output_type": "stream",
     "text": [
      "[0.2952381  1.47619048 2.06666667]\n",
      "[0.81497625 0.97539516 0.98930469]\n"
     ]
    }
   ],
   "source": [
    "print(rmm.split_to_rates(observed_total,rate_pattern,populations))\n",
    "print(oddm.split_to_rates(observed_total,rate_pattern,populations))"
   ]
  },
  {
   "cell_type": "code",
   "execution_count": 6,
   "metadata": {},
   "outputs": [
    {
     "name": "stdout",
     "output_type": "stream",
     "text": [
      "0.08064516129032258\n",
      "[0.47619048 1.19047619 0.83333333]\n",
      "2.5\n"
     ]
    }
   ],
   "source": [
    "b=rmm.fit_beta(observed_total,populations,rate_pattern)\n",
    "\n",
    "bse=rmm.beta_standard_error(\n",
    "    b,\n",
    "    populations,\n",
    "    rate_pattern,\n",
    "    observed_total_SE\n",
    ")\n",
    "print(bse)\n",
    "print(bse * rmm.count_diff_beta(b,rate_pattern,populations))\n",
    "print(np.sum(bse * rmm.count_diff_beta(b,rate_pattern,populations)))"
   ]
  },
  {
   "cell_type": "code",
   "execution_count": 7,
   "metadata": {},
   "outputs": [
    {
     "data": {
      "text/plain": [
       "array([0.47619048, 1.19047619, 0.83333333])"
      ]
     },
     "execution_count": 7,
     "metadata": {},
     "output_type": "execute_result"
    }
   ],
   "source": [
    "rmm.count_split_standard_errors(b,rate_pattern,populations,observed_total_SE)"
   ]
  },
  {
   "cell_type": "code",
   "execution_count": null,
   "metadata": {},
   "outputs": [],
   "source": []
  },
  {
   "cell_type": "code",
   "execution_count": null,
   "metadata": {},
   "outputs": [],
   "source": []
  },
  {
   "cell_type": "code",
   "execution_count": 9,
   "metadata": {},
   "outputs": [],
   "source": [
    "b=oddm.fit_beta(observed_total,rate_pattern,populations)"
   ]
  },
  {
   "cell_type": "code",
   "execution_count": 10,
   "metadata": {},
   "outputs": [
    {
     "data": {
      "text/plain": [
       "0.30223366091526715"
      ]
     },
     "execution_count": 10,
     "metadata": {},
     "output_type": "execute_result"
    }
   ],
   "source": [
    "1/oddm.H_diff_beta(b,rate_pattern,populations)"
   ]
  },
  {
   "cell_type": "code",
   "execution_count": 12,
   "metadata": {},
   "outputs": [
    {
     "data": {
      "text/plain": [
       "3.679899347162453"
      ]
     },
     "execution_count": 12,
     "metadata": {},
     "output_type": "execute_result"
    }
   ],
   "source": [
    "oddm.fit_beta(observed_total,rate_pattern,populations)"
   ]
  },
  {
   "cell_type": "code",
   "execution_count": 15,
   "metadata": {},
   "outputs": [
    {
     "data": {
      "text/plain": [
       "0.7555841522881679"
      ]
     },
     "execution_count": 15,
     "metadata": {},
     "output_type": "execute_result"
    }
   ],
   "source": [
    "oddm.beta_standard_error(\n",
    "    b,\n",
    "    rate_pattern,\n",
    "    populations,\n",
    "    observed_total_SE,\n",
    ")"
   ]
  },
  {
   "cell_type": "code",
   "execution_count": 16,
   "metadata": {},
   "outputs": [
    {
     "ename": "AttributeError",
     "evalue": "'RateMultiplicativeModel' object has no attribute 'split_groups'",
     "output_type": "error",
     "traceback": [
      "\u001b[0;31m---------------------------------------------------------------------------\u001b[0m",
      "\u001b[0;31mAttributeError\u001b[0m                            Traceback (most recent call last)",
      "\u001b[1;32m/Users/owlx/Dropbox/UW Math Work/Research with Sasha/IHME work/Splitting Problems/splitting-python-package/examples/Basic Splitting Examples.ipynb Cell 15\u001b[0m in \u001b[0;36m<cell line: 1>\u001b[0;34m()\u001b[0m\n\u001b[0;32m----> <a href='vscode-notebook-cell:/Users/owlx/Dropbox/UW%20Math%20Work/Research%20with%20Sasha/IHME%20work/Splitting%20Problems/splitting-python-package/examples/Basic%20Splitting%20Examples.ipynb#X36sZmlsZQ%3D%3D?line=0'>1</a>\u001b[0m estimate,SE,CI\u001b[39m=\u001b[39msplit_datapoint(\n\u001b[1;32m      <a href='vscode-notebook-cell:/Users/owlx/Dropbox/UW%20Math%20Work/Research%20with%20Sasha/IHME%20work/Splitting%20Problems/splitting-python-package/examples/Basic%20Splitting%20Examples.ipynb#X36sZmlsZQ%3D%3D?line=1'>2</a>\u001b[0m     observed_total,\n\u001b[1;32m      <a href='vscode-notebook-cell:/Users/owlx/Dropbox/UW%20Math%20Work/Research%20with%20Sasha/IHME%20work/Splitting%20Problems/splitting-python-package/examples/Basic%20Splitting%20Examples.ipynb#X36sZmlsZQ%3D%3D?line=2'>3</a>\u001b[0m     populations,\n\u001b[1;32m      <a href='vscode-notebook-cell:/Users/owlx/Dropbox/UW%20Math%20Work/Research%20with%20Sasha/IHME%20work/Splitting%20Problems/splitting-python-package/examples/Basic%20Splitting%20Examples.ipynb#X36sZmlsZQ%3D%3D?line=3'>4</a>\u001b[0m     rate_pattern,\n\u001b[1;32m      <a href='vscode-notebook-cell:/Users/owlx/Dropbox/UW%20Math%20Work/Research%20with%20Sasha/IHME%20work/Splitting%20Problems/splitting-python-package/examples/Basic%20Splitting%20Examples.ipynb#X36sZmlsZQ%3D%3D?line=4'>5</a>\u001b[0m     observed_total_SE,\n\u001b[1;32m      <a href='vscode-notebook-cell:/Users/owlx/Dropbox/UW%20Math%20Work/Research%20with%20Sasha/IHME%20work/Splitting%20Problems/splitting-python-package/examples/Basic%20Splitting%20Examples.ipynb#X36sZmlsZQ%3D%3D?line=5'>6</a>\u001b[0m     model\u001b[39m=\u001b[39;49mRateMultiplicativeModel()\n\u001b[1;32m      <a href='vscode-notebook-cell:/Users/owlx/Dropbox/UW%20Math%20Work/Research%20with%20Sasha/IHME%20work/Splitting%20Problems/splitting-python-package/examples/Basic%20Splitting%20Examples.ipynb#X36sZmlsZQ%3D%3D?line=6'>7</a>\u001b[0m )\n\u001b[1;32m      <a href='vscode-notebook-cell:/Users/owlx/Dropbox/UW%20Math%20Work/Research%20with%20Sasha/IHME%20work/Splitting%20Problems/splitting-python-package/examples/Basic%20Splitting%20Examples.ipynb#X36sZmlsZQ%3D%3D?line=7'>8</a>\u001b[0m \u001b[39mprint\u001b[39m(\u001b[39m\"\u001b[39m\u001b[39mEstimated incidence in each group\u001b[39m\u001b[39m\"\u001b[39m)\n\u001b[1;32m      <a href='vscode-notebook-cell:/Users/owlx/Dropbox/UW%20Math%20Work/Research%20with%20Sasha/IHME%20work/Splitting%20Problems/splitting-python-package/examples/Basic%20Splitting%20Examples.ipynb#X36sZmlsZQ%3D%3D?line=8'>9</a>\u001b[0m \u001b[39mprint\u001b[39m(estimate)\n",
      "File \u001b[0;32m~/Dropbox/UW Math Work/Research with Sasha/IHME work/Splitting Problems/splitting-python-package/src/pydisagg/disaggregate.py:70\u001b[0m, in \u001b[0;36msplit_datapoint\u001b[0;34m(observed_total, bucket_populations, rate_pattern, observed_total_se, model, output_type, CI_method)\u001b[0m\n\u001b[1;32m     21\u001b[0m \u001b[39m\"\"\"Disaggregate a datapoint using the model given as input.\u001b[39;00m\n\u001b[1;32m     22\u001b[0m \u001b[39mDefaults to assuming multiplicativity in the odds ratio\u001b[39;00m\n\u001b[1;32m     23\u001b[0m \n\u001b[0;32m   (...)\u001b[0m\n\u001b[1;32m     67\u001b[0m \u001b[39m    (point_estimate,standard_error,(CI_lower,CI_upper))\u001b[39;00m\n\u001b[1;32m     68\u001b[0m \u001b[39m\"\"\"\u001b[39;00m\n\u001b[1;32m     69\u001b[0m \u001b[39mif\u001b[39;00m output_type\u001b[39m==\u001b[39m\u001b[39m'\u001b[39m\u001b[39mtotal\u001b[39m\u001b[39m'\u001b[39m:\n\u001b[0;32m---> 70\u001b[0m     \u001b[39mreturn\u001b[39;00m model\u001b[39m.\u001b[39;49msplit_groups(\n\u001b[1;32m     71\u001b[0m         bucket_populations,\n\u001b[1;32m     72\u001b[0m         observed_total,\n\u001b[1;32m     73\u001b[0m         observed_total_se,\n\u001b[1;32m     74\u001b[0m         rate_pattern,\n\u001b[1;32m     75\u001b[0m         CI_method\u001b[39m=\u001b[39mCI_method\n\u001b[1;32m     76\u001b[0m     )\n\u001b[1;32m     77\u001b[0m \u001b[39mif\u001b[39;00m output_type\u001b[39m==\u001b[39m\u001b[39m'\u001b[39m\u001b[39mrate\u001b[39m\u001b[39m'\u001b[39m:\n\u001b[1;32m     78\u001b[0m     \u001b[39mreturn\u001b[39;00m model\u001b[39m.\u001b[39msplit_groups_rate(\n\u001b[1;32m     79\u001b[0m         bucket_populations,\n\u001b[1;32m     80\u001b[0m         observed_total,\n\u001b[0;32m   (...)\u001b[0m\n\u001b[1;32m     83\u001b[0m         CI_method\u001b[39m=\u001b[39mCI_method\n\u001b[1;32m     84\u001b[0m     )\n",
      "\u001b[0;31mAttributeError\u001b[0m: 'RateMultiplicativeModel' object has no attribute 'split_groups'"
     ]
    }
   ],
   "source": [
    "estimate,SE,CI=split_datapoint(\n",
    "    observed_total,\n",
    "    populations,\n",
    "    rate_pattern,\n",
    "    observed_total_SE,\n",
    "    model=RateMultiplicativeModel()\n",
    ")\n",
    "print(\"Estimated incidence in each group\")\n",
    "print(estimate)\n",
    "\n",
    "print(\"Standard Error of Above Estimates\")\n",
    "print(SE)\n",
    "\n",
    "print(\"CI Lower\")\n",
    "print(CI[0])\n",
    "print(\"CI Upper\")\n",
    "print(CI[1])\n"
   ]
  },
  {
   "cell_type": "code",
   "execution_count": 4,
   "metadata": {},
   "outputs": [
    {
     "name": "stdout",
     "output_type": "stream",
     "text": [
      "Estimated incidence in each group\n",
      "[16.29952498  9.75395156  4.94652346]\n",
      "Standard Error of Above Estimates\n",
      "[2.27869012 0.18133601 0.03997387]\n",
      "CI Lower\n",
      "[11.83337441  9.39853952  4.86817611]\n",
      "CI Upper\n",
      "[20.76567555 10.1093636   5.02487081]\n"
     ]
    }
   ],
   "source": [
    "estimate,SE,CI=split_datapoint(\n",
    "    observed_total,\n",
    "    populations,\n",
    "    rate_pattern,\n",
    "    observed_total_SE,\n",
    "    model=LogOdds_model()\n",
    ")\n",
    "print(\"Estimated incidence in each group\")\n",
    "print(estimate)\n",
    "\n",
    "print(\"Standard Error of Above Estimates\")\n",
    "print(SE)\n",
    "\n",
    "print(\"CI Lower\")\n",
    "print(CI[0])\n",
    "\n",
    "print(\"CI Upper\")\n",
    "print(CI[1])\n",
    "\n"
   ]
  },
  {
   "cell_type": "markdown",
   "metadata": {},
   "source": [
    "### Example where we get unreasonable estimates\n",
    "The rate-multiplicative model here estimates 14 events in a group of only 10 people, while the LogOdds model provides a more reasonable estimate, adjusting the larger group more, and increasing the estimated rate for them relatively more, as we incorporate the prior information that the estimated rate cannot go above 1. "
   ]
  },
  {
   "cell_type": "code",
   "execution_count": 5,
   "metadata": {},
   "outputs": [
    {
     "name": "stdout",
     "output_type": "stream",
     "text": [
      "[ 5.71428571 14.28571429]\n",
      "[10.85582305  9.14417695]\n"
     ]
    }
   ],
   "source": [
    "populations=np.array([20,10])\n",
    "pattern=np.array([0.1,0.5])\n",
    "observed_total=20\n",
    "print(split_datapoint(\n",
    "    observed_total,\n",
    "    populations,\n",
    "    pattern,\n",
    "    model=RateMultiplicativeModel()\n",
    "))\n",
    "print(split_datapoint(\n",
    "    observed_total,\n",
    "    populations,\n",
    "    pattern,\n",
    "    model=LogOdds_model()\n",
    "))"
   ]
  },
  {
   "cell_type": "markdown",
   "metadata": {},
   "source": [
    "# Example below is somewhat out of date, see dataframe splitting example"
   ]
  },
  {
   "cell_type": "markdown",
   "metadata": {},
   "source": [
    "### More complex setting of having population sex ratio differ from study sex ratio"
   ]
  },
  {
   "cell_type": "code",
   "execution_count": 6,
   "metadata": {},
   "outputs": [
    {
     "name": "stdout",
     "output_type": "stream",
     "text": [
      "Estimates:\n",
      "[648.14814815 855.55555556]\n",
      "SE\n",
      "[ 92.59259259 122.22222222]\n"
     ]
    }
   ],
   "source": [
    "pop_men=1000\n",
    "pop_women=1100\n",
    "pop_by_sex=np.array([pop_men,pop_women])\n",
    "\n",
    "study_prop_men=0.6\n",
    "study_prop_women=0.4\n",
    "study_props=np.array([study_prop_men,study_prop_women])\n",
    "\n",
    "observed_study_rate=0.7\n",
    "study_se=0.1\n",
    "\n",
    "#This hack of using the ratio of incidence rates works when we assume multiplicativity in rate rather than in odds\n",
    "baseline_male_rate=1.2\n",
    "baseline_female_rate=1\n",
    "sex_splitting_model=RateMultiplicativeModel(np.array([baseline_female_rate,baseline_male_rate]))\n",
    "\n",
    "#Fit with study_props, the study population proportions\n",
    "sex_splitting_model.fit_beta(\n",
    "    bucket_populations=study_props,\n",
    "    observed_total=observed_study_rate,\n",
    "    observed_total_se=study_se\n",
    ")\n",
    "\n",
    "#Predict with population proportions\n",
    "estimated_by_sex=sex_splitting_model.predict_count(pop_by_sex)\n",
    "SE_by_sex=sex_splitting_model.predict_count_SE(pop_by_sex)\n",
    "print(\"Estimates:\")\n",
    "print(estimated_by_sex)\n",
    "\n",
    "print(\"SE\")\n",
    "print(SE_by_sex)\n"
   ]
  },
  {
   "cell_type": "markdown",
   "metadata": {},
   "source": [
    "### We set up a toy problem with data from two larger age groups to split first in age and then in sex"
   ]
  },
  {
   "cell_type": "code",
   "execution_count": 7,
   "metadata": {},
   "outputs": [],
   "source": [
    "age_splitting_model=LMO_model(1)\n",
    "sex_splitting_model=RateMultiplicativeModel()\n",
    "\n",
    "age_groups=np.array([0,1,2,3])\n",
    "population_age_pattern=np.array([100,200,300,100])\n",
    "global_age_pattern=np.array([0.5,0.3,0.5,0.6])\n",
    "\n",
    "within_age_sex_rate_ratios=np.array([1.2,1.1,1,0.8])\n",
    "within_age_sex_proportions=np.array([\n",
    "    [0.4,0.6],\n",
    "    [0.5,0.5],\n",
    "    [0.6,0.4],\n",
    "    [0.7,0.3]\n",
    "])\n",
    "\n",
    "datapoint_age_partition=np.array([0,2,4])\n",
    "observed_incidences=np.array([250,300])\n",
    "\n",
    "\n",
    "age_results=np.zeros(0)\n",
    "for observation,lower,upper in zip(observed_incidences,datapoint_age_partition[:-1],datapoint_age_partition[1:]):\n",
    "    counts_by_age=split_datapoint(\n",
    "        observation,\n",
    "        population_age_pattern[lower:upper],\n",
    "        global_age_pattern[lower:upper],\n",
    "        model=age_splitting_model\n",
    "    )\n",
    "    age_results=np.append(age_results,counts_by_age)\n"
   ]
  },
  {
   "cell_type": "code",
   "execution_count": 8,
   "metadata": {},
   "outputs": [],
   "source": [
    "combined_split_results=np.zeros((4,3))\n",
    "combined_split_results[:,0]=age_results\n",
    "\n",
    "for age_incidence,sex_proportions,population_at_age,rate_ratio,age_id in zip(\n",
    "    age_results,\n",
    "    within_age_sex_proportions,\n",
    "    population_age_pattern,\n",
    "    within_age_sex_rate_ratios,\n",
    "    range(len(age_results))\n",
    "    ):\n",
    "    combined_split_results[age_id,1:3]=split_datapoint(\n",
    "        age_incidence,\n",
    "        population_at_age*sex_proportions,\n",
    "        np.array([rate_ratio,1]),\n",
    "        model=sex_splitting_model\n",
    "    )\n",
    "    \n",
    "full_results=pd.DataFrame(combined_split_results,columns=['Total in Age Group','Male','Female'])"
   ]
  },
  {
   "cell_type": "code",
   "execution_count": 9,
   "metadata": {},
   "outputs": [
    {
     "data": {
      "text/html": [
       "<div>\n",
       "<style scoped>\n",
       "    .dataframe tbody tr th:only-of-type {\n",
       "        vertical-align: middle;\n",
       "    }\n",
       "\n",
       "    .dataframe tbody tr th {\n",
       "        vertical-align: top;\n",
       "    }\n",
       "\n",
       "    .dataframe thead th {\n",
       "        text-align: right;\n",
       "    }\n",
       "</style>\n",
       "<table border=\"1\" class=\"dataframe\">\n",
       "  <thead>\n",
       "    <tr style=\"text-align: right;\">\n",
       "      <th></th>\n",
       "      <th>Total in Age Group</th>\n",
       "      <th>Male</th>\n",
       "      <th>Female</th>\n",
       "    </tr>\n",
       "  </thead>\n",
       "  <tbody>\n",
       "    <tr>\n",
       "      <th>0</th>\n",
       "      <td>90.253327</td>\n",
       "      <td>40.112590</td>\n",
       "      <td>50.140737</td>\n",
       "    </tr>\n",
       "    <tr>\n",
       "      <th>1</th>\n",
       "      <td>159.746673</td>\n",
       "      <td>83.676829</td>\n",
       "      <td>76.069844</td>\n",
       "    </tr>\n",
       "    <tr>\n",
       "      <th>2</th>\n",
       "      <td>219.615242</td>\n",
       "      <td>131.769145</td>\n",
       "      <td>87.846097</td>\n",
       "    </tr>\n",
       "    <tr>\n",
       "      <th>3</th>\n",
       "      <td>80.384758</td>\n",
       "      <td>52.343563</td>\n",
       "      <td>28.041195</td>\n",
       "    </tr>\n",
       "  </tbody>\n",
       "</table>\n",
       "</div>"
      ],
      "text/plain": [
       "   Total in Age Group        Male     Female\n",
       "0           90.253327   40.112590  50.140737\n",
       "1          159.746673   83.676829  76.069844\n",
       "2          219.615242  131.769145  87.846097\n",
       "3           80.384758   52.343563  28.041195"
      ]
     },
     "execution_count": 9,
     "metadata": {},
     "output_type": "execute_result"
    }
   ],
   "source": [
    "full_results"
   ]
  },
  {
   "cell_type": "code",
   "execution_count": null,
   "metadata": {},
   "outputs": [],
   "source": []
  }
 ],
 "metadata": {
  "kernelspec": {
   "display_name": "Python 3.9.12 ('base')",
   "language": "python",
   "name": "python3"
  },
  "language_info": {
   "codemirror_mode": {
    "name": "ipython",
    "version": 3
   },
   "file_extension": ".py",
   "mimetype": "text/x-python",
   "name": "python",
   "nbconvert_exporter": "python",
   "pygments_lexer": "ipython3",
   "version": "3.9.12"
  },
  "orig_nbformat": 4,
  "vscode": {
   "interpreter": {
    "hash": "4305e4dd096d3b07644ed9367958f26f20ce2e59d964c522587ff506aeedb069"
   }
  }
 },
 "nbformat": 4,
 "nbformat_minor": 2
}
