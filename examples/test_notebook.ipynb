{
 "cells": [
  {
   "cell_type": "code",
   "execution_count": 39,
   "metadata": {},
   "outputs": [],
   "source": [
    "from pydisagg.disaggregate import split_datapoint\n",
    "import numpy as np\n",
    "from pydisagg.models import RateMultiplicativeModel\n",
    "from pydisagg.models import LMO_model\n",
    "from pydisagg.models import LogOdds_model\n",
    "import pandas as pd\n",
    "from tqdm.auto import tqdm"
   ]
  },
  {
   "cell_type": "code",
   "execution_count": 2,
   "metadata": {},
   "outputs": [],
   "source": [
    "populations=np.array([20,10,5])\n",
    "rate_pattern=np.array([0.1,0.5,0.7])\n",
    "observed_total=20.\n",
    "observed_total_SE=0\n",
    "pattern_cov = 0.01*np.identity(3)\n",
    "zero_cov = np.zeros((3,3))"
   ]
  },
  {
   "cell_type": "code",
   "execution_count": 3,
   "metadata": {},
   "outputs": [],
   "source": [
    "oddm=LogOdds_model()"
   ]
  },
  {
   "cell_type": "code",
   "execution_count": 4,
   "metadata": {},
   "outputs": [
    {
     "data": {
      "text/plain": [
       "array([[ 2.187, -1.762, -0.425],\n",
       "       [-1.762,  1.452,  0.31 ],\n",
       "       [-0.425,  0.31 ,  0.115]])"
      ]
     },
     "execution_count": 4,
     "metadata": {},
     "output_type": "execute_result"
    }
   ],
   "source": [
    "b=oddm.fit_beta(observed_total,rate_pattern,populations)\n",
    "\n",
    "C=oddm.count_split_covariance_uncertainty(b,rate_pattern,populations,observed_total_SE,pattern_cov)\n",
    "np.around(C,3)"
   ]
  },
  {
   "cell_type": "code",
   "execution_count": 5,
   "metadata": {},
   "outputs": [
    {
     "data": {
      "text/plain": [
       "array([[2.0806605 , 0.63708815, 0.16715031],\n",
       "       [0.63708815, 0.1950733 , 0.05118061],\n",
       "       [0.16715031, 0.05118061, 0.01342806]])"
      ]
     },
     "execution_count": 5,
     "metadata": {},
     "output_type": "execute_result"
    }
   ],
   "source": [
    "C=oddm.count_split_covariance_uncertainty(b,rate_pattern,populations,2,zero_cov)\n",
    "C"
   ]
  },
  {
   "cell_type": "code",
   "execution_count": 6,
   "metadata": {},
   "outputs": [
    {
     "data": {
      "text/plain": [
       "array([[0.00520165, 0.00318544, 0.0016715 ],\n",
       "       [0.00318544, 0.00195073, 0.00102361],\n",
       "       [0.0016715 , 0.00102361, 0.00053712]])"
      ]
     },
     "execution_count": 6,
     "metadata": {},
     "output_type": "execute_result"
    }
   ],
   "source": [
    "C=oddm.rate_split_covariance_uncertainty(b,rate_pattern,populations,2,zero_cov)\n",
    "C"
   ]
  },
  {
   "cell_type": "code",
   "execution_count": 9,
   "metadata": {},
   "outputs": [
    {
     "data": {
      "text/plain": [
       "array([[2.0806605 , 0.63708815, 0.16715031],\n",
       "       [0.63708815, 0.1950733 , 0.05118061],\n",
       "       [0.16715031, 0.05118061, 0.01342806]])"
      ]
     },
     "execution_count": 9,
     "metadata": {},
     "output_type": "execute_result"
    }
   ],
   "source": [
    "np.diag(populations)@C@np.diag(populations)"
   ]
  },
  {
   "cell_type": "code",
   "execution_count": 70,
   "metadata": {},
   "outputs": [],
   "source": [
    "populations=np.array([20,10,5])\n",
    "rate_pattern=np.array([0.1,0.5,0.7])\n",
    "observed_total=20.\n",
    "observed_total_SE=0.01\n",
    "pattern_cov = 0.001*np.identity(3)\n",
    "zero_cov = np.zeros((3,3))\n",
    "\n",
    "num_samples = 10000\n",
    "pattern_draws = np.random.multivariate_normal(rate_pattern,pattern_cov,int(1.5*num_samples))\n",
    "pattern_draws = pattern_draws[np.min(pattern_draws,axis=1)>0.01][:num_samples]\n",
    "total_draws = observed_total + observed_total_SE*np.random.randn(num_samples)"
   ]
  },
  {
   "cell_type": "code",
   "execution_count": 71,
   "metadata": {},
   "outputs": [
    {
     "data": {
      "application/vnd.jupyter.widget-view+json": {
       "model_id": "0beab0cad65844c2b82cd6eb50e1cacb",
       "version_major": 2,
       "version_minor": 0
      },
      "text/plain": [
       "  0%|          | 0/10000 [00:00<?, ?it/s]"
      ]
     },
     "metadata": {},
     "output_type": "display_data"
    }
   ],
   "source": [
    "splits = [oddm.split_to_rates(tot,pattern,populations) for tot,pattern in tqdm(zip(total_draws,pattern_draws),total=num_samples)]\n",
    "splits = np.array(splits)\n"
   ]
  },
  {
   "cell_type": "code",
   "execution_count": 72,
   "metadata": {},
   "outputs": [],
   "source": [
    "splits = np.array(splits)\n"
   ]
  },
  {
   "cell_type": "code",
   "execution_count": 87,
   "metadata": {},
   "outputs": [
    {
     "name": "stdout",
     "output_type": "stream",
     "text": [
      "Estimated covariance matrix from draws\n",
      "[[ 0.0005659  -0.00091279 -0.00043719]\n",
      " [-0.00091279  0.00150573  0.00063989]\n",
      " [-0.00043719  0.00063989  0.00046938]]\n",
      "Estimated covariance matrix from delta method\n",
      "[[ 0.00054696 -0.00088105 -0.000425  ]\n",
      " [-0.00088105  0.00145225  0.00062015]\n",
      " [-0.000425    0.00062015  0.00045992]]\n",
      "Frobenius norm relative error:\n",
      "0.033581384236625184\n"
     ]
    }
   ],
   "source": [
    "draw_cov = np.cov(splits.T)\n",
    "asymptotic_cov = oddm.rate_split_covariance_uncertainty(\n",
    "    oddm.fit_beta(observed_total,rate_pattern,populations),\n",
    "    rate_pattern,\n",
    "    populations,\n",
    "    observed_total_SE,\n",
    "    pattern_cov\n",
    "    )\n",
    "print(\"Estimated covariance matrix from draws\")\n",
    "print(draw_cov)\n",
    "\n",
    "print(\"Estimated covariance matrix from delta method\")\n",
    "print(asymptotic_cov)\n",
    "\n",
    "print(\"Frobenius norm relative error:\")\n",
    "rel_error=np.linalg.norm(draw_cov-asymptotic_cov)/np.linalg.norm(draw_cov)\n",
    "print(rel_error)"
   ]
  },
  {
   "cell_type": "code",
   "execution_count": 89,
   "metadata": {},
   "outputs": [
    {
     "name": "stdout",
     "output_type": "stream",
     "text": [
      "[0.02378861 0.03880377 0.02166518]\n",
      "[0.02338709 0.03810838 0.02144574]\n"
     ]
    }
   ],
   "source": [
    "print(np.sqrt(np.diag(draw_cov)))\n",
    "print(np.sqrt(np.diag(asymptotic_cov)))"
   ]
  },
  {
   "cell_type": "code",
   "execution_count": 81,
   "metadata": {},
   "outputs": [
    {
     "data": {
      "text/plain": [
       "1.7320508075688772"
      ]
     },
     "execution_count": 81,
     "metadata": {},
     "output_type": "execute_result"
    }
   ],
   "source": [
    "np.sqrt(3)"
   ]
  }
 ],
 "metadata": {
  "kernelspec": {
   "display_name": "base",
   "language": "python",
   "name": "python3"
  },
  "language_info": {
   "codemirror_mode": {
    "name": "ipython",
    "version": 3
   },
   "file_extension": ".py",
   "mimetype": "text/x-python",
   "name": "python",
   "nbconvert_exporter": "python",
   "pygments_lexer": "ipython3",
   "version": "3.9.12"
  },
  "orig_nbformat": 4
 },
 "nbformat": 4,
 "nbformat_minor": 2
}
