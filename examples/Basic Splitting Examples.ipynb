{
 "cells": [
  {
   "cell_type": "code",
   "execution_count": 1,
   "metadata": {},
   "outputs": [],
   "source": [
    "from pydisagg.disaggregate import split_datapoint\n",
    "import numpy as np\n",
    "from pydisagg.models import RateMultiplicativeModel\n",
    "from pydisagg.models import LMO_model\n",
    "from pydisagg.models import LogOdds_model\n",
    "import pandas as pd"
   ]
  },
  {
   "cell_type": "markdown",
   "metadata": {},
   "source": [
    "### Basic example using RateMultiplicativeModel and OddsMultiplicativeModel"
   ]
  },
  {
   "cell_type": "code",
   "execution_count": 2,
   "metadata": {},
   "outputs": [],
   "source": [
    "populations=np.array([20,10,5])\n",
    "rate_pattern=np.array([0.1,0.5,0.7])\n",
    "measured_count=31\n",
    "measured_count_SE=2.5"
   ]
  },
  {
   "cell_type": "code",
   "execution_count": 3,
   "metadata": {},
   "outputs": [
    {
     "name": "stdout",
     "output_type": "stream",
     "text": [
      "Estimated incidence in each group\n",
      "[ 5.9047619  14.76190476 10.33333333]\n",
      "Standard Error of Above Estimates\n",
      "[0.47619048 1.19047619 0.83333333]\n",
      "CI Lower\n",
      "[ 4.97144572 12.4286143   8.70003001]\n",
      "CI Upper\n",
      "[ 6.83807809 17.09519522 11.96663665]\n"
     ]
    }
   ],
   "source": [
    "estimate,SE,CI=split_datapoint(\n",
    "    measured_count,\n",
    "    populations,\n",
    "    rate_pattern,\n",
    "    measured_count_SE,\n",
    "    model=RateMultiplicativeModel()\n",
    ")\n",
    "print(\"Estimated incidence in each group\")\n",
    "print(estimate)\n",
    "\n",
    "print(\"Standard Error of Above Estimates\")\n",
    "print(SE)\n",
    "\n",
    "print(\"CI Lower\")\n",
    "print(CI[0])\n",
    "print(\"CI Upper\")\n",
    "print(CI[1])\n"
   ]
  },
  {
   "cell_type": "code",
   "execution_count": 4,
   "metadata": {},
   "outputs": [
    {
     "name": "stdout",
     "output_type": "stream",
     "text": [
      "Estimated incidence in each group\n",
      "[16.29952498  9.75395156  4.94652346]\n",
      "Standard Error of Above Estimates\n",
      "[2.27869012 0.18133601 0.03997387]\n",
      "CI Lower\n",
      "[11.83337441  9.39853952  4.86817611]\n",
      "CI Upper\n",
      "[20.76567555 10.1093636   5.02487081]\n"
     ]
    }
   ],
   "source": [
    "estimate,SE,CI=split_datapoint(\n",
    "    measured_count,\n",
    "    populations,\n",
    "    rate_pattern,\n",
    "    measured_count_SE,\n",
    "    model=LogOdds_model()\n",
    ")\n",
    "print(\"Estimated incidence in each group\")\n",
    "print(estimate)\n",
    "\n",
    "print(\"Standard Error of Above Estimates\")\n",
    "print(SE)\n",
    "\n",
    "print(\"CI Lower\")\n",
    "print(CI[0])\n",
    "\n",
    "print(\"CI Upper\")\n",
    "print(CI[1])\n",
    "\n"
   ]
  },
  {
   "cell_type": "markdown",
   "metadata": {},
   "source": [
    "### Example where we get unreasonable estimates\n",
    "The rate-multiplicative model here estimates 14 events in a group of only 10 people, while the LogOdds model provides a more reasonable estimate, adjusting the larger group more, and increasing the estimated rate for them relatively more, as we incorporate the prior information that the estimated rate cannot go above 1. "
   ]
  },
  {
   "cell_type": "code",
   "execution_count": 5,
   "metadata": {},
   "outputs": [
    {
     "name": "stdout",
     "output_type": "stream",
     "text": [
      "[ 5.71428571 14.28571429]\n",
      "[10.85582305  9.14417695]\n"
     ]
    }
   ],
   "source": [
    "populations=np.array([20,10])\n",
    "pattern=np.array([0.1,0.5])\n",
    "measured_count=20\n",
    "print(split_datapoint(\n",
    "    measured_count,\n",
    "    populations,\n",
    "    pattern,\n",
    "    model=RateMultiplicativeModel()\n",
    "))\n",
    "print(split_datapoint(\n",
    "    measured_count,\n",
    "    populations,\n",
    "    pattern,\n",
    "    model=LogOdds_model()\n",
    "))"
   ]
  },
  {
   "cell_type": "markdown",
   "metadata": {},
   "source": [
    "# Example below is somewhat out of date, see dataframe splitting example"
   ]
  },
  {
   "cell_type": "markdown",
   "metadata": {},
   "source": [
    "### More complex setting of having population sex ratio differ from study sex ratio"
   ]
  },
  {
   "cell_type": "code",
   "execution_count": 6,
   "metadata": {},
   "outputs": [
    {
     "name": "stdout",
     "output_type": "stream",
     "text": [
      "Estimates:\n",
      "[648.14814815 855.55555556]\n",
      "SE\n",
      "[ 92.59259259 122.22222222]\n"
     ]
    }
   ],
   "source": [
    "pop_men=1000\n",
    "pop_women=1100\n",
    "pop_by_sex=np.array([pop_men,pop_women])\n",
    "\n",
    "study_prop_men=0.6\n",
    "study_prop_women=0.4\n",
    "study_props=np.array([study_prop_men,study_prop_women])\n",
    "\n",
    "observed_study_rate=0.7\n",
    "study_se=0.1\n",
    "\n",
    "#This hack of using the ratio of incidence rates works when we assume multiplicativity in rate rather than in odds\n",
    "baseline_male_rate=1.2\n",
    "baseline_female_rate=1\n",
    "sex_splitting_model=RateMultiplicativeModel(np.array([baseline_female_rate,baseline_male_rate]))\n",
    "\n",
    "#Fit with study_props, the study population proportions\n",
    "sex_splitting_model.fit_beta(\n",
    "    bucket_populations=study_props,\n",
    "    measured_count=observed_study_rate,\n",
    "    measured_count_se=study_se\n",
    ")\n",
    "\n",
    "#Predict with population proportions\n",
    "estimated_by_sex=sex_splitting_model.predict_count(pop_by_sex)\n",
    "SE_by_sex=sex_splitting_model.predict_count_SE(pop_by_sex)\n",
    "print(\"Estimates:\")\n",
    "print(estimated_by_sex)\n",
    "\n",
    "print(\"SE\")\n",
    "print(SE_by_sex)\n"
   ]
  },
  {
   "cell_type": "markdown",
   "metadata": {},
   "source": [
    "### We set up a toy problem with data from two larger age groups to split first in age and then in sex"
   ]
  },
  {
   "cell_type": "code",
   "execution_count": 7,
   "metadata": {},
   "outputs": [],
   "source": [
    "age_splitting_model=LMO_model(1)\n",
    "sex_splitting_model=RateMultiplicativeModel()\n",
    "\n",
    "age_groups=np.array([0,1,2,3])\n",
    "population_age_pattern=np.array([100,200,300,100])\n",
    "global_age_pattern=np.array([0.5,0.3,0.5,0.6])\n",
    "\n",
    "within_age_sex_rate_ratios=np.array([1.2,1.1,1,0.8])\n",
    "within_age_sex_proportions=np.array([\n",
    "    [0.4,0.6],\n",
    "    [0.5,0.5],\n",
    "    [0.6,0.4],\n",
    "    [0.7,0.3]\n",
    "])\n",
    "\n",
    "datapoint_age_partition=np.array([0,2,4])\n",
    "observed_incidences=np.array([250,300])\n",
    "\n",
    "\n",
    "age_results=np.zeros(0)\n",
    "for observation,lower,upper in zip(observed_incidences,datapoint_age_partition[:-1],datapoint_age_partition[1:]):\n",
    "    counts_by_age=split_datapoint(\n",
    "        observation,\n",
    "        population_age_pattern[lower:upper],\n",
    "        global_age_pattern[lower:upper],\n",
    "        model=age_splitting_model\n",
    "    )\n",
    "    age_results=np.append(age_results,counts_by_age)\n"
   ]
  },
  {
   "cell_type": "code",
   "execution_count": 8,
   "metadata": {},
   "outputs": [],
   "source": [
    "combined_split_results=np.zeros((4,3))\n",
    "combined_split_results[:,0]=age_results\n",
    "\n",
    "for age_incidence,sex_proportions,population_at_age,rate_ratio,age_id in zip(\n",
    "    age_results,\n",
    "    within_age_sex_proportions,\n",
    "    population_age_pattern,\n",
    "    within_age_sex_rate_ratios,\n",
    "    range(len(age_results))\n",
    "    ):\n",
    "    combined_split_results[age_id,1:3]=split_datapoint(\n",
    "        age_incidence,\n",
    "        population_at_age*sex_proportions,\n",
    "        np.array([rate_ratio,1]),\n",
    "        model=sex_splitting_model\n",
    "    )\n",
    "    \n",
    "full_results=pd.DataFrame(combined_split_results,columns=['Total in Age Group','Male','Female'])"
   ]
  },
  {
   "cell_type": "code",
   "execution_count": 9,
   "metadata": {},
   "outputs": [
    {
     "data": {
      "text/html": [
       "<div>\n",
       "<style scoped>\n",
       "    .dataframe tbody tr th:only-of-type {\n",
       "        vertical-align: middle;\n",
       "    }\n",
       "\n",
       "    .dataframe tbody tr th {\n",
       "        vertical-align: top;\n",
       "    }\n",
       "\n",
       "    .dataframe thead th {\n",
       "        text-align: right;\n",
       "    }\n",
       "</style>\n",
       "<table border=\"1\" class=\"dataframe\">\n",
       "  <thead>\n",
       "    <tr style=\"text-align: right;\">\n",
       "      <th></th>\n",
       "      <th>Total in Age Group</th>\n",
       "      <th>Male</th>\n",
       "      <th>Female</th>\n",
       "    </tr>\n",
       "  </thead>\n",
       "  <tbody>\n",
       "    <tr>\n",
       "      <th>0</th>\n",
       "      <td>90.253327</td>\n",
       "      <td>40.112590</td>\n",
       "      <td>50.140737</td>\n",
       "    </tr>\n",
       "    <tr>\n",
       "      <th>1</th>\n",
       "      <td>159.746673</td>\n",
       "      <td>83.676829</td>\n",
       "      <td>76.069844</td>\n",
       "    </tr>\n",
       "    <tr>\n",
       "      <th>2</th>\n",
       "      <td>219.615242</td>\n",
       "      <td>131.769145</td>\n",
       "      <td>87.846097</td>\n",
       "    </tr>\n",
       "    <tr>\n",
       "      <th>3</th>\n",
       "      <td>80.384758</td>\n",
       "      <td>52.343563</td>\n",
       "      <td>28.041195</td>\n",
       "    </tr>\n",
       "  </tbody>\n",
       "</table>\n",
       "</div>"
      ],
      "text/plain": [
       "   Total in Age Group        Male     Female\n",
       "0           90.253327   40.112590  50.140737\n",
       "1          159.746673   83.676829  76.069844\n",
       "2          219.615242  131.769145  87.846097\n",
       "3           80.384758   52.343563  28.041195"
      ]
     },
     "execution_count": 9,
     "metadata": {},
     "output_type": "execute_result"
    }
   ],
   "source": [
    "full_results"
   ]
  },
  {
   "cell_type": "code",
   "execution_count": null,
   "metadata": {},
   "outputs": [],
   "source": []
  }
 ],
 "metadata": {
  "kernelspec": {
   "display_name": "Python 3.9.12 ('base')",
   "language": "python",
   "name": "python3"
  },
  "language_info": {
   "codemirror_mode": {
    "name": "ipython",
    "version": 3
   },
   "file_extension": ".py",
   "mimetype": "text/x-python",
   "name": "python",
   "nbconvert_exporter": "python",
   "pygments_lexer": "ipython3",
   "version": "3.9.12"
  },
  "orig_nbformat": 4,
  "vscode": {
   "interpreter": {
    "hash": "4305e4dd096d3b07644ed9367958f26f20ce2e59d964c522587ff506aeedb069"
   }
  }
 },
 "nbformat": 4,
 "nbformat_minor": 2
}
