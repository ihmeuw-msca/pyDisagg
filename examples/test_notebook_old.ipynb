{
 "cells": [
  {
   "cell_type": "code",
   "execution_count": 1,
   "metadata": {},
   "outputs": [],
   "source": [
    "from pydisagg.disaggregate import split_datapoint\n",
    "import numpy as np\n",
    "from pydisagg.models import RateMultiplicativeModel\n",
    "from pydisagg.models import LMO_model\n",
    "from pydisagg.models import LogOdds_model\n",
    "import pandas as pd"
   ]
  },
  {
   "cell_type": "markdown",
   "metadata": {},
   "source": [
    "### Basic example using RateMultiplicativeModel and OddsMultiplicativeModel"
   ]
  },
  {
   "cell_type": "code",
   "execution_count": 2,
   "metadata": {},
   "outputs": [],
   "source": [
    "populations=np.array([20,10,5])\n",
    "rate_pattern=np.array([0.1,0.5,0.7])\n",
    "observed_total=20.\n",
    "observed_total_SE=2.5"
   ]
  },
  {
   "cell_type": "code",
   "execution_count": null,
   "metadata": {},
   "outputs": [],
   "source": []
  },
  {
   "cell_type": "code",
   "execution_count": 3,
   "metadata": {},
   "outputs": [],
   "source": [
    "rmm=RateMultiplicativeModel()\n",
    "oddm=LogOdds_model()"
   ]
  },
  {
   "cell_type": "code",
   "execution_count": 4,
   "metadata": {},
   "outputs": [
    {
     "name": "stdout",
     "output_type": "stream",
     "text": [
      "1.596597932398452\n",
      "0.6443570163905132\n"
     ]
    }
   ],
   "source": [
    "print(oddm.fit_beta(observed_total,rate_pattern,populations))\n",
    "print(rmm.fit_beta(observed_total,rate_pattern,populations))"
   ]
  },
  {
   "cell_type": "code",
   "execution_count": 5,
   "metadata": {},
   "outputs": [
    {
     "name": "stdout",
     "output_type": "stream",
     "text": [
      "[0.19047619 0.95238095 1.33333333]\n",
      "[0.35420034 0.83154236 0.92011391]\n"
     ]
    }
   ],
   "source": [
    "print(rmm.split_to_rates(observed_total,rate_pattern,populations))\n",
    "print(oddm.split_to_rates(observed_total,rate_pattern,populations))"
   ]
  },
  {
   "cell_type": "code",
   "execution_count": 6,
   "metadata": {},
   "outputs": [
    {
     "name": "stdout",
     "output_type": "stream",
     "text": [
      "0.125\n",
      "[0.47619048 1.19047619 0.83333333]\n",
      "2.5\n"
     ]
    }
   ],
   "source": [
    "b=rmm.fit_beta(observed_total,populations,rate_pattern)\n",
    "\n",
    "bse=rmm.beta_standard_error(\n",
    "    b,\n",
    "    populations,\n",
    "    rate_pattern,\n",
    "    observed_total_SE\n",
    ")\n",
    "print(bse)\n",
    "print(bse * rmm.count_diff_beta(b,rate_pattern,populations))\n",
    "print(np.sum(bse * rmm.count_diff_beta(b,rate_pattern,populations)))"
   ]
  },
  {
   "cell_type": "code",
   "execution_count": 7,
   "metadata": {},
   "outputs": [
    {
     "data": {
      "text/plain": [
       "array([0.47619048, 1.19047619, 0.83333333])"
      ]
     },
     "execution_count": 7,
     "metadata": {},
     "output_type": "execute_result"
    }
   ],
   "source": [
    "rmm.count_split_standard_errors(b,rate_pattern,populations,observed_total_SE)"
   ]
  },
  {
   "cell_type": "code",
   "execution_count": 8,
   "metadata": {},
   "outputs": [
    {
     "data": {
      "text/plain": [
       "array([0.35420034, 0.83154236, 0.92011391])"
      ]
     },
     "execution_count": 8,
     "metadata": {},
     "output_type": "execute_result"
    }
   ],
   "source": [
    "oddm.split_to_rates(observed_total,rate_pattern,populations)"
   ]
  },
  {
   "cell_type": "code",
   "execution_count": 9,
   "metadata": {},
   "outputs": [
    {
     "data": {
      "text/plain": [
       "1.596597932398452"
      ]
     },
     "execution_count": 9,
     "metadata": {},
     "output_type": "execute_result"
    }
   ],
   "source": [
    "oddm.fit_beta(observed_total,rate_pattern,populations)"
   ]
  },
  {
   "cell_type": "code",
   "execution_count": 10,
   "metadata": {},
   "outputs": [],
   "source": [
    "b=oddm.fit_beta(observed_total,rate_pattern,populations)"
   ]
  },
  {
   "cell_type": "code",
   "execution_count": 11,
   "metadata": {},
   "outputs": [
    {
     "data": {
      "text/plain": [
       "0.15764994875370109"
      ]
     },
     "execution_count": 11,
     "metadata": {},
     "output_type": "execute_result"
    }
   ],
   "source": [
    "1/oddm.H_diff_beta(b,rate_pattern,populations)"
   ]
  },
  {
   "cell_type": "code",
   "execution_count": 12,
   "metadata": {},
   "outputs": [
    {
     "data": {
      "text/plain": [
       "0.3941248718842527"
      ]
     },
     "execution_count": 12,
     "metadata": {},
     "output_type": "execute_result"
    }
   ],
   "source": [
    "oddm.beta_standard_error(\n",
    "    b,\n",
    "    rate_pattern,\n",
    "    populations,\n",
    "    observed_total_SE\n",
    ")"
   ]
  },
  {
   "cell_type": "code",
   "execution_count": 13,
   "metadata": {},
   "outputs": [],
   "source": [
    "pattern_cov=(np.ones((3,3))+np.identity(3)*2)*0.1"
   ]
  },
  {
   "cell_type": "code",
   "execution_count": 14,
   "metadata": {},
   "outputs": [
    {
     "data": {
      "text/plain": [
       "array([[21.58432567, -2.52000703, -1.0939538 , -0.97246609],\n",
       "       [-2.52000703,  0.3       ,  0.1       ,  0.1       ],\n",
       "       [-1.0939538 ,  0.1       ,  0.3       ,  0.1       ],\n",
       "       [-0.97246609,  0.1       ,  0.1       ,  0.3       ]])"
      ]
     },
     "execution_count": 14,
     "metadata": {},
     "output_type": "execute_result"
    }
   ],
   "source": [
    "oddm.parameter_covariance(b,rate_pattern,populations,observed_total_SE,pattern_cov)"
   ]
  },
  {
   "cell_type": "code",
   "execution_count": 15,
   "metadata": {},
   "outputs": [
    {
     "data": {
      "text/plain": [
       "array([[ 54.85987474, -40.67511513,  -9.67710498],\n",
       "       [-40.67511513,  34.59942445,   7.45591265],\n",
       "       [ -9.67710498,   7.45591265,   2.58331574]])"
      ]
     },
     "execution_count": 15,
     "metadata": {},
     "output_type": "execute_result"
    }
   ],
   "source": [
    "C=oddm.count_split_covariance_uncertainty(b,rate_pattern,populations,observed_total_SE,pattern_cov)\n",
    "C"
   ]
  },
  {
   "cell_type": "code",
   "execution_count": 16,
   "metadata": {},
   "outputs": [
    {
     "data": {
      "text/plain": [
       "array([[ 54.85987474, -40.67511513,  -9.67710498],\n",
       "       [-40.67511513,  34.59942445,   7.45591265],\n",
       "       [ -9.67710498,   7.45591265,   2.58331574]])"
      ]
     },
     "execution_count": 16,
     "metadata": {},
     "output_type": "execute_result"
    }
   ],
   "source": [
    "pcov=oddm.parameter_covariance(b,rate_pattern,populations,observed_total_SE,pattern_cov)\n",
    "count_jac = oddm.count_jacobian(b,rate_pattern,populations)\n",
    "count_jac@pcov@count_jac.T"
   ]
  },
  {
   "cell_type": "code",
   "execution_count": 17,
   "metadata": {},
   "outputs": [
    {
     "data": {
      "text/plain": [
       "array([[ 4.57484919, 50.83165761,  0.        ,  0.        ],\n",
       "       [ 1.40079662,  0.        ,  5.60318649,  0.        ],\n",
       "       [ 0.36752149,  0.        ,  0.        ,  1.75010235]])"
      ]
     },
     "execution_count": 17,
     "metadata": {},
     "output_type": "execute_result"
    }
   ],
   "source": [
    "count_jac"
   ]
  },
  {
   "cell_type": "code",
   "execution_count": 18,
   "metadata": {},
   "outputs": [
    {
     "data": {
      "text/plain": [
       "array([[21.58432567, -2.52000703, -1.0939538 , -0.97246609],\n",
       "       [-2.52000703,  0.3       ,  0.1       ,  0.1       ],\n",
       "       [-1.0939538 ,  0.1       ,  0.3       ,  0.1       ],\n",
       "       [-0.97246609,  0.1       ,  0.1       ,  0.3       ]])"
      ]
     },
     "execution_count": 18,
     "metadata": {},
     "output_type": "execute_result"
    }
   ],
   "source": [
    "pcov"
   ]
  },
  {
   "cell_type": "code",
   "execution_count": 19,
   "metadata": {},
   "outputs": [
    {
     "data": {
      "text/plain": [
       "array([0.        , 5.60319634, 0.        ])"
      ]
     },
     "execution_count": 19,
     "metadata": {},
     "output_type": "execute_result"
    }
   ],
   "source": [
    "h=0.001\n",
    "(oddm.predict_count(\n",
    "    b,\n",
    "    rate_pattern+h*np.array([0,1,0]),\n",
    "    populations\n",
    ")-oddm.predict_count(\n",
    "    b,\n",
    "    rate_pattern-h*np.array([0,1,0]),\n",
    "    populations\n",
    "))/(2*h)"
   ]
  },
  {
   "cell_type": "code",
   "execution_count": 20,
   "metadata": {},
   "outputs": [
    {
     "data": {
      "text/plain": [
       "array([-4.04116183,  4.36580924, -0.32464741])"
      ]
     },
     "execution_count": 20,
     "metadata": {},
     "output_type": "execute_result"
    }
   ],
   "source": [
    "h=0.001\n",
    "(oddm.split_to_counts(\n",
    "    observed_total,\n",
    "    rate_pattern+h*np.array([0,1,0]),\n",
    "    populations\n",
    ")-oddm.split_to_counts(\n",
    "    observed_total,\n",
    "    rate_pattern-h*np.array([0,1,0]),\n",
    "    populations\n",
    "))/(2*h)"
   ]
  },
  {
   "cell_type": "code",
   "execution_count": 21,
   "metadata": {},
   "outputs": [],
   "source": [
    "jfit=oddm.parameter_fit_jacobian(b,rate_pattern,populations)"
   ]
  },
  {
   "cell_type": "code",
   "execution_count": 22,
   "metadata": {},
   "outputs": [
    {
     "data": {
      "text/plain": [
       "array([[21.58432567, -2.52000703, -1.0939538 , -0.97246609],\n",
       "       [-2.52000703,  0.3       ,  0.1       ,  0.1       ],\n",
       "       [-1.0939538 ,  0.1       ,  0.3       ,  0.1       ],\n",
       "       [-0.97246609,  0.1       ,  0.1       ,  0.3       ]])"
      ]
     },
     "execution_count": 22,
     "metadata": {},
     "output_type": "execute_result"
    }
   ],
   "source": [
    "pcov"
   ]
  },
  {
   "cell_type": "code",
   "execution_count": 23,
   "metadata": {},
   "outputs": [],
   "source": [
    "datacov=np.block(\n",
    "    [\n",
    "        [np.array([[observed_total_SE**2]]),np.zeros((1,3))],\n",
    "        [np.zeros((3,1)),pattern_cov]\n",
    "    ]\n",
    ")"
   ]
  },
  {
   "cell_type": "code",
   "execution_count": 24,
   "metadata": {},
   "outputs": [
    {
     "data": {
      "text/plain": [
       "array([[21.58432567, -2.52000703, -1.0939538 , -0.97246609],\n",
       "       [-2.52000703,  0.3       ,  0.1       ,  0.1       ],\n",
       "       [-1.0939538 ,  0.1       ,  0.3       ,  0.1       ],\n",
       "       [-0.97246609,  0.1       ,  0.1       ,  0.3       ]])"
      ]
     },
     "execution_count": 24,
     "metadata": {},
     "output_type": "execute_result"
    }
   ],
   "source": [
    "jfit@datacov@jfit.T"
   ]
  },
  {
   "cell_type": "code",
   "execution_count": 25,
   "metadata": {},
   "outputs": [
    {
     "data": {
      "text/plain": [
       "array([[ 0.15764995, -8.01360822, -0.88334206, -0.27590355],\n",
       "       [ 0.        ,  1.        ,  0.        ,  0.        ],\n",
       "       [ 0.        ,  0.        ,  1.        ,  0.        ],\n",
       "       [ 0.        ,  0.        ,  0.        ,  1.        ]])"
      ]
     },
     "execution_count": 25,
     "metadata": {},
     "output_type": "execute_result"
    }
   ],
   "source": [
    "jfit"
   ]
  },
  {
   "cell_type": "code",
   "execution_count": 26,
   "metadata": {},
   "outputs": [],
   "source": [
    "rj = oddm.rate_jacobian(b,rate_pattern)"
   ]
  },
  {
   "cell_type": "code",
   "execution_count": 27,
   "metadata": {},
   "outputs": [
    {
     "data": {
      "text/plain": [
       "-8.042993289678002"
      ]
     },
     "execution_count": 27,
     "metadata": {},
     "output_type": "execute_result"
    }
   ],
   "source": [
    "h=0.01\n",
    "(oddm.fit_beta(\n",
    "    observed_total,\n",
    "    rate_pattern+h*np.array([1,0,0]),\n",
    "    populations\n",
    ")-oddm.fit_beta(\n",
    "    observed_total,\n",
    "    rate_pattern-h*np.array([1,0,0]),\n",
    "    populations\n",
    "))/(2*h)"
   ]
  },
  {
   "cell_type": "code",
   "execution_count": 28,
   "metadata": {},
   "outputs": [
    {
     "data": {
      "text/plain": [
       "array([[ 0.15764995, -8.01360822, -0.88334206, -0.27590355],\n",
       "       [ 0.        ,  1.        ,  0.        ,  0.        ],\n",
       "       [ 0.        ,  0.        ,  1.        ,  0.        ],\n",
       "       [ 0.        ,  0.        ,  0.        ,  1.        ]])"
      ]
     },
     "execution_count": 28,
     "metadata": {},
     "output_type": "execute_result"
    }
   ],
   "source": [
    "jfit"
   ]
  }
 ],
 "metadata": {
  "kernelspec": {
   "display_name": "base",
   "language": "python",
   "name": "python3"
  },
  "language_info": {
   "codemirror_mode": {
    "name": "ipython",
    "version": 3
   },
   "file_extension": ".py",
   "mimetype": "text/x-python",
   "name": "python",
   "nbconvert_exporter": "python",
   "pygments_lexer": "ipython3",
   "version": "3.9.12"
  },
  "orig_nbformat": 4
 },
 "nbformat": 4,
 "nbformat_minor": 2
}
